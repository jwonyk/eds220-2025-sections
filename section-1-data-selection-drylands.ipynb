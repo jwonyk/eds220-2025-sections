{
 "cells": [
  {
   "cell_type": "markdown",
   "id": "fa6e3ec3-588e-4e1b-846a-69d8fbeb24b7",
   "metadata": {},
   "source": [
    "# Week 1 Section Exercise\n",
    "\n",
    "## Prey Species in California Drylands\n",
    "\n",
    "### 1. Archive exploration\n",
    "\n",
    "### 2. Metadata exploration\n",
    "\n",
    "### 3. Data loading\n",
    "\n",
    "### 4. Look at your data\n",
    "\n",
    "### 5. pd.DataFrame preliminary exploration\n",
    "\n",
    "### 6. Update column names\n",
    "\n",
    "### 7. Subsetting"
   ]
  },
  {
   "cell_type": "code",
   "execution_count": null,
   "id": "ef0a4ec4-ef40-401f-8947-df675c36db86",
   "metadata": {},
   "outputs": [],
   "source": []
  }
 ],
 "metadata": {
  "kernelspec": {
   "display_name": "EDS220",
   "language": "python",
   "name": "eds220-env"
  },
  "language_info": {
   "codemirror_mode": {
    "name": "ipython",
    "version": 3
   },
   "file_extension": ".py",
   "mimetype": "text/x-python",
   "name": "python",
   "nbconvert_exporter": "python",
   "pygments_lexer": "ipython3",
   "version": "3.11.4"
  }
 },
 "nbformat": 4,
 "nbformat_minor": 5
}
