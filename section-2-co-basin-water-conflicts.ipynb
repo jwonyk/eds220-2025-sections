{
 "cells": [
  {
   "cell_type": "markdown",
   "id": "ba4414b7-9d65-4d69-9f29-2fabdda5b72d",
   "metadata": {},
   "source": [
    "# Water conflicts in the Colorado River Basin\n",
    "Week 2 - Discussion section"
   ]
  },
  {
   "cell_type": "code",
   "execution_count": 1,
   "id": "b279246c-6138-40cb-b1d3-9aa28db92b88",
   "metadata": {},
   "outputs": [],
   "source": [
    "# Load package\n",
    "import numpy as np\n",
    "import pandas as pd"
   ]
  },
  {
   "cell_type": "code",
   "execution_count": 2,
   "id": "6a2f5ce9-a154-4e64-986b-fb5867f9a676",
   "metadata": {},
   "outputs": [],
   "source": [
    "# Load data\n",
    "df = pd.read_csv(\"data/Colorado_River_Basin_Water_Conflict_Table.csv\")"
   ]
  },
  {
   "cell_type": "markdown",
   "id": "e0c9fe78-a927-470c-b756-0da016257352",
   "metadata": {},
   "source": [
    "## 1. Archive exploration\n",
    "- Look through the dataset’s description in the ScienceBase repository. Find the following information:\n",
    "    - Where was the data collected from??\n",
    "    - During what time frame were the observations in the dataset collected?\n",
    "    - What was the author’s perceived value of this dataset?\n",
    "\n",
    "- In a markdown cell, use your answers to the previous questions to add a brief description of the dataset. Briefly discuss anything else that seems relevant to you. Include a citation, date of access, and a link to the archive.\n",
    "\n",
    "- Take a look at the data’s metadata by clicking on the “View” icon of the Coded Events Colorado River Basin Water Conflict Table Metadata.xml file."
   ]
  },
  {
   "cell_type": "markdown",
   "id": "49cd94d4-da89-4d2e-b1ac-05c9d77ab3b5",
   "metadata": {},
   "source": [
    "## 2. Data loading\n",
    "- Create a new directory data/ inside your eds-220-sections directory.\n",
    "\n",
    "- Download the Colorado River Basin Water Conflict Table.csv file from the Science Base repository and upload it into the data/ folder.\n",
    "\n",
    "- Update the .gitignore file of your eds-220-sections so it ignores the data/ folder. Push the changes to this file. Verify that git is ignoring the data file. Note: If you update the .gitignore file via GitHub, you need to run git pull when you go back to the server.\n",
    "\n",
    "- Load the data into your section-2-co-basin-water-conflicts.ipynb notebook. Name your data frame variable df."
   ]
  },
  {
   "cell_type": "markdown",
   "id": "bf370224-0acd-4098-a24d-1c37853adfb1",
   "metadata": {},
   "source": [
    "## 3. Preliminary data exploration\n",
    "- Set pandas to display all columns in the data frame.\n",
    "\n",
    "- Using pandas methods, obtain preliminary information and explore this data frame in at least four different ways."
   ]
  },
  {
   "cell_type": "markdown",
   "id": "06fd80b7-3ba1-4bfb-abbe-258c46f7a67c",
   "metadata": {},
   "source": [
    "## 4. Location column descriptions\n",
    "In these exercises we will work with columns in the data frame pertaining to the location of an event. Before continuing, read the following column descriptions form the .xml metadata file:"
   ]
  },
  {
   "cell_type": "markdown",
   "id": "5e3c7135-9cad-4ee9-9950-af20c14af3a6",
   "metadata": {},
   "source": [
    "## 5. String accessor for pandas.Series\n",
    "- In the following exercises we will work with pandas.Series whose values are strings. This is a common scenario, so pandas has special string methods for this kind of series. These methods are accessed via the str accessor. Accessors provide additional functionality for working with specific kinds of data (in this case, strings).\n",
    "    - The code below gives a brief demonstration of the using the str accessor to use the split() method for pandas.Series. Carefully read the code and check in with your team to see if you have questions about it. We’ll use it in a moment."
   ]
  },
  {
   "cell_type": "markdown",
   "id": "72131869-f988-4f59-b2bb-a327fc04a095",
   "metadata": {},
   "source": [
    "## 6. Examine state codes\n",
    "- Our goal today is to find which states are reported in the dataset as having a water conflicts.\n",
    "\n",
    "    - What are the unique values in the States column once filtering the dataset for states that have a water conflict? What could be a challenge to writing code to find which states are listed (without repetition)? Remember to write longer answers in markdown cells, not as comments."
   ]
  },
  {
   "cell_type": "markdown",
   "id": "e5c8e7ce-a881-4513-a4a2-df7c15911b88",
   "metadata": {},
   "source": [
    "## 7. Brainstorm\n",
    "- Individually, write step-by-step instructions on how you would wrangle the data frame df to obtain a list (without repetition) of the state codes in which a water conflict has been reported. It’s ok if you don’t know how to code each step - it’s more important to have an idea of what you would like to do.\n",
    "\n",
    "- Discuss your step-by-step instructions with your team.\n",
    "\n",
    "The next exercises will guide you through finding the unique state codes in the dataset. There are many ways of extracting this information. The one presented here might not be the same way you thought about doing it - that’s ok! This one was designed to practice using the .str accessor in a pandas.Series."
   ]
  },
  {
   "cell_type": "markdown",
   "id": "c044895c-fac6-448b-b8c7-f79c44aebc35",
   "metadata": {},
   "source": [
    "## 8. Exploratory wrangling\n",
    "- Perform the following wrangling:\n",
    "    - select the State column from the df data frame\n",
    "    - split the strings in the column by the delimeter ; into different columns\n",
    "    - stack the results of the resulting data frame into a single pandas.Series\n",
    "    - find the unique string values in the resulting series\n",
    "Your final answer should use method chaining without creating new variables."
   ]
  },
  {
   "cell_type": "markdown",
   "id": "d09dbf2b-4280-465c-ae71-a81b1e8c2eae",
   "metadata": {},
   "source": [
    "## 9. Find unique state codes\n",
    "- Discuss with your team: Why do some state codes seem to be repeated? What would we need to do to get the correct strings?\n",
    "\n",
    "- Update your code to obtain a list of codes (without repetition) of the states mentioned in the news articles about water conflicts in the Colorado River Basin. Hint: str.strip().\n",
    "\n",
    "- Bonus: How many articles mention each state?"
   ]
  },
  {
   "cell_type": "code",
   "execution_count": null,
   "id": "a22ab39a-eb00-4f35-9fc8-ad96c09d89ec",
   "metadata": {},
   "outputs": [],
   "source": []
  }
 ],
 "metadata": {
  "kernelspec": {
   "display_name": "EDS220",
   "language": "python",
   "name": "eds220-env"
  },
  "language_info": {
   "codemirror_mode": {
    "name": "ipython",
    "version": 3
   },
   "file_extension": ".py",
   "mimetype": "text/x-python",
   "name": "python",
   "nbconvert_exporter": "python",
   "pygments_lexer": "ipython3",
   "version": "3.11.4"
  }
 },
 "nbformat": 4,
 "nbformat_minor": 5
}
