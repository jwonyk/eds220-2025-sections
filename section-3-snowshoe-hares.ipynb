{
 "cells": [
  {
   "attachments": {},
   "cell_type": "markdown",
   "metadata": {},
   "source": [
    "![image description](https://upload.wikimedia.org/wikipedia/commons/8/8a/SNOWSHOE_HARE_%28Lepus_americanus%29_%285-28-2015%29_quoddy_head%2C_washington_co%2C_maine_-01_%2818988734889%29.jpg)"
   ]
  },
  {
   "cell_type": "code",
   "execution_count": 1,
   "metadata": {},
   "outputs": [],
   "source": [
    "import pandas as pd\n",
    "import numpy as np"
   ]
  },
  {
   "cell_type": "code",
   "execution_count": 2,
   "metadata": {},
   "outputs": [],
   "source": [
    "hares = pd.read_csv(\"data/55_Hare_Data_2012.txt\")"
   ]
  },
  {
   "attachments": {},
   "cell_type": "markdown",
   "metadata": {},
   "source": [
    "## 4. Detecting messy values\n",
    "1. In the metadata section of the EDI repository, find which are the allowed values for the hares’ sex. Create a small table in a markdown cell showing the values and their definitions.\n",
    "2. Get the number of times each unique sex non-NA value appears.\n"
   ]
  },
  {
   "cell_type": "code",
   "execution_count": null,
   "metadata": {},
   "outputs": [],
   "source": [
    "# Count of unique non-NA values\n"
   ]
  },
  {
   "attachments": {},
   "cell_type": "markdown",
   "metadata": {},
   "source": [
    "3. Check the documentation of value_counts(). What is the purpose of the dropna parameter and what is its default value? Repeat step (a), this time adding the dropna=False parameter to value_counts()."
   ]
  },
  {
   "attachments": {},
   "cell_type": "markdown",
   "metadata": {},
   "source": [
    "Purpose of the drop NA parameter is to decide whether to include the counts of rows that contain NA values. Default value: True"
   ]
  },
  {
   "attachments": {},
   "cell_type": "markdown",
   "metadata": {},
   "source": [
    "4. Discuss with your team the output of the unique value counts. In particular:\n",
    "    - Do the values in the sex column correspond to the values declared in the metadata?\n",
    "    - What could have been potential causes for multiple codes?\n",
    "    - Are there seemingly repated values? If so, what could be the cause?\n",
    "\n",
    "Write code to confirm your suspicions about c-iii.\n",
    "\n"
   ]
  },
  {
   "attachments": {},
   "cell_type": "markdown",
   "metadata": {},
   "source": [
    "## 6. Clean values\n",
    "Create a new column called `sex_simple` using the `numpy.select()` function so that\n",
    "- ‘F’, ‘f’, and ‘f_’ in the sex column get assigned to ‘female’,\n",
    "- ‘M’, ‘m’, and ‘m_’ get assigned to ‘male’, and\n",
    "- anything else gets assigned `np.nan`\n",
    "\n",
    "Check the counts of unique values (including NAs) in the new `sex_simple` column.\n"
   ]
  },
  {
   "cell_type": "code",
   "execution_count": 13,
   "metadata": {},
   "outputs": [
    {
     "name": "stdout",
     "output_type": "stream",
     "text": [
      "[nan 'M' 'F' '?' 'F?' 'M?' 'pf' 'm' 'f' 'f?' 'm?' 'f ' 'm ']\n"
     ]
    }
   ],
   "source": [
    "# Check all the different unique values\n",
    "print(hares.sex.unique())\n",
    "\n",
    "x = hares.sex"
   ]
  },
  {
   "cell_type": "code",
   "execution_count": 14,
   "metadata": {},
   "outputs": [],
   "source": [
    "condition_list = [x.isin(['M', 'm', 'm_']), x.isin(['F', 'f', 'f_'])]\n",
    "output_list = ['male', 'female']"
   ]
  },
  {
   "cell_type": "code",
   "execution_count": 18,
   "metadata": {},
   "outputs": [],
   "source": [
    "hares['sex_simple'] = np.select(condition_list, output_list, default = np.nan)"
   ]
  },
  {
   "cell_type": "code",
   "execution_count": 19,
   "metadata": {},
   "outputs": [
    {
     "data": {
      "text/plain": [
       "sex_simple\n",
       "female    1717\n",
       "male      1245\n",
       "nan        418\n",
       "Name: count, dtype: int64"
      ]
     },
     "execution_count": 19,
     "metadata": {},
     "output_type": "execute_result"
    }
   ],
   "source": [
    "hares['sex_simple'].value_counts()"
   ]
  },
  {
   "attachments": {},
   "cell_type": "markdown",
   "metadata": {},
   "source": [
    "## 7. Calculate mean weight\n",
    "1. Use `groupby()` to calculate the mean weight by sex using the new column.\n",
    "2. Write a full sentence explaining the results you obtained. Don’t forget to include units.\n"
   ]
  },
  {
   "cell_type": "code",
   "execution_count": 17,
   "metadata": {},
   "outputs": [
    {
     "data": {
      "text/plain": [
       "sex_simple\n",
       "female    1366.920372\n",
       "male      1352.145553\n",
       "nan       1176.511111\n",
       "Name: weight, dtype: float64"
      ]
     },
     "execution_count": 17,
     "metadata": {},
     "output_type": "execute_result"
    }
   ],
   "source": [
    "hares.groupby(by = 'sex_simple')['weight'].mean()"
   ]
  }
 ],
 "metadata": {
  "kernelspec": {
   "display_name": "EDS-220 env",
   "language": "python",
   "name": "eds220-env"
  },
  "language_info": {
   "codemirror_mode": {
    "name": "ipython",
    "version": 3
   },
   "file_extension": ".py",
   "mimetype": "text/x-python",
   "name": "python",
   "nbconvert_exporter": "python",
   "pygments_lexer": "ipython3",
   "version": "3.11.4"
  },
  "orig_nbformat": 4
 },
 "nbformat": 4,
 "nbformat_minor": 2
}
